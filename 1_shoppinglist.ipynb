{
 "cells": [
  {
   "cell_type": "code",
   "execution_count": 2,
   "metadata": {},
   "outputs": [],
   "source": [
    "\n",
    "def display_available_items(dct):\n",
    "    '''\n",
    "    Display all available items in the store\n",
    "    '''\n",
    "    print(\"\\t\\tAvailable Items:\")\n",
    "    print(f\"{'S.No.':<15}{'Item':<15}{'Quanity':<15}{'Cost/Item':<15}\")\n",
    "    for index, row in dct.items():\n",
    "        print(f\"{index:<15}{row['Item']:<15}{row['Quantity']:<15}{row['Cost/Item']:<15}\")"
   ]
  },
  {
   "cell_type": "code",
   "execution_count": null,
   "metadata": {},
   "outputs": [],
   "source": [
    "def display_user_cart(dct):\n",
    "    print(\"\\t\\tItems in Cart:\")\n",
    "    print(f\"{'S.No.':<15}{'Item':<15}{'Quanity':<15}{'Total Cost':<15}\")\n",
    "    for index, row in dct.items():\n",
    "        print(f\"{index:<15}{row['Item']:<15}{row['Quantity']:<15}{row['TotalCost']:<15}\")"
   ]
  },
  {
   "cell_type": "code",
   "execution_count": null,
   "metadata": {},
   "outputs": [],
   "source": [
    "availableItems = {1: {'Item': 'Biscuits', 'Quantity': 5, 'Cost/Item': 20.5}, \n",
    "2: {'Item': 'Chocolates', 'Quantity': 10, 'Cost/Item': 35}, \n",
    "3: {'Item': 'Coffee', 'Quantity': 25, 'Cost/Item': 55},\n",
    "4: {'Item': 'Chips', 'Quantity': 10, 'Cost/Item': 50},\n",
    "5: {'Item': 'Cream', 'Quantity': 5, 'Cost/Item': 30}}"
   ]
  },
  {
   "cell_type": "code",
   "execution_count": 7,
   "metadata": {},
   "outputs": [
    {
     "name": "stdout",
     "output_type": "stream",
     "text": [
      "\t\tAvailable Items:\n",
      "S.No.          Item           Quanity        Cost/Item      \n",
      "1              Biscuits       5              20.5           \n",
      "2              Chocolates     10             35             \n",
      "3              Coffee         25             55             \n",
      "4              Chips          10             50             \n",
      "5              Cream          5              30             \n"
     ]
    }
   ],
   "source": [
    "display_available_items(availableItems)"
   ]
  },
  {
   "cell_type": "code",
   "execution_count": 8,
   "metadata": {},
   "outputs": [],
   "source": [
    "userDemand = {'Biscuits': 5, 'Chocolates': 10, 'Coffee': 25, 'Chips': 10, 'Cream': 5}\n",
    "name = 'PREM SHARMA'\n",
    "address = 'HODAL'\n",
    "distance =  15\n",
    "deliveryCharge = 30\n",
    "bill = 0"
   ]
  },
  {
   "cell_type": "code",
   "execution_count": 9,
   "metadata": {},
   "outputs": [],
   "source": [
    "bill = 0\n",
    "user_cart = availableItems.copy()\n",
    "for it in userDemand:\n",
    "    for i in availableItems.copy():\n",
    "        if it ==  availableItems[i]['Item']:\n",
    "            if userDemand[it] <= availableItems[i]['Quantity']:\n",
    "                tt = userDemand[it] * availableItems[i]['Cost/Item']\n",
    "                bill += tt\n",
    "                availableItems[i]['Quantity'] -= userDemand[it]\n",
    "                user_cart[i]['Quantity'] = userDemand[it]\n",
    "                user_cart[i]['TotalCost'] = tt\n",
    "            else:  \n",
    "                print(f\"Sorry, we don't have enough {it} in stock\")\n",
    "                user_cart.pop(i)\n",
    "                break "
   ]
  },
  {
   "cell_type": "code",
   "execution_count": 10,
   "metadata": {},
   "outputs": [
    {
     "name": "stdout",
     "output_type": "stream",
     "text": [
      "\t\tItems in Cart:\n",
      "S.No.          Item           Quanity        Total Cost     \n",
      "1              Biscuits       5              102.5          \n",
      "2              Chocolates     10             350            \n",
      "3              Coffee         25             1375           \n",
      "4              Chips          10             500            \n",
      "5              Cream          5              150            \n",
      "Total Item Cost: 2477.5\n",
      "Total Bill Amount = Total Amount + delivery charge: 2507.5\n",
      "{'Name': 'PREM SHARMA', 'Address': 'HODAL', 'Distance': 15, 'Delivery Charge': 30, 'Bill': 2507.5}\n"
     ]
    }
   ],
   "source": [
    "totalBill = bill + deliveryCharge\n",
    "display_user_cart(user_cart)\n",
    "print('Total Item Cost:', bill)\n",
    "print('Total Bill Amount = Total Amount + delivery charge:', totalBill)\n",
    "customer_details = {'Name': name, 'Address': address, 'Distance': distance, 'Delivery Charge': deliveryCharge, 'Bill': totalBill}\n",
    "print(customer_details)"
   ]
  }
 ],
 "metadata": {
  "kernelspec": {
   "display_name": "Python 3",
   "language": "python",
   "name": "python3"
  },
  "language_info": {
   "codemirror_mode": {
    "name": "ipython",
    "version": 3
   },
   "file_extension": ".py",
   "mimetype": "text/x-python",
   "name": "python",
   "nbconvert_exporter": "python",
   "pygments_lexer": "ipython3",
   "version": "3.11.5"
  }
 },
 "nbformat": 4,
 "nbformat_minor": 2
}
